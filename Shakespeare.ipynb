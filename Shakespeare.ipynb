{
  "nbformat": 4,
  "nbformat_minor": 0,
  "metadata": {
    "colab": {
      "name": "Shakespeare.ipynb",
      "provenance": [],
      "collapsed_sections": [],
      "authorship_tag": "ABX9TyPigS0LLw/O3RTEB7uHxJH4"
    },
    "kernelspec": {
      "name": "python3",
      "display_name": "Python 3"
    }
  },
  "cells": [
    {
      "cell_type": "code",
      "metadata": {
        "id": "wlB-tQ1Bovp1",
        "colab_type": "code",
        "colab": {}
      },
      "source": [
        "from tensorflow.keras.preprocessing.sequence import pad_sequences\n",
        "from tensorflow.keras.layers import Embedding, LSTM, Dense, Dropout, Bidirectional\n",
        "from tensorflow.keras.preprocessing.text import Tokenizer\n",
        "from tensorflow.keras.models import Sequential\n",
        "from tensorflow.keras.optimizers import Adam\n",
        "from tensorflow.keras import regularizers\n",
        "import tensorflow.keras.utils as ku \n",
        "import numpy as np "
      ],
      "execution_count": 0,
      "outputs": []
    },
    {
      "cell_type": "code",
      "metadata": {
        "id": "LSQ61cYbovme",
        "colab_type": "code",
        "colab": {
          "base_uri": "https://localhost:8080/",
          "height": 202
        },
        "outputId": "47f04536-6bec-4b30-e216-23b62804a56f"
      },
      "source": [
        "tokenizer = Tokenizer()\n",
        "!wget --no-check-certificate \\\n",
        "    https://storage.googleapis.com/laurencemoroney-blog.appspot.com/sonnets.txt \\\n",
        "    -O /tmp/sonnets.txt\n",
        "data = open('/tmp/sonnets.txt').read()\n",
        "\n",
        "corpus = data.lower().split(\"\\n\")\n",
        "\n",
        "\n",
        "tokenizer.fit_on_texts(corpus)\n",
        "total_words = len(tokenizer.word_index) + 1\n",
        "\n",
        "# create input sequences using list of tokens\n",
        "input_sequences = []\n",
        "for line in corpus:\n",
        "\ttoken_list = tokenizer.texts_to_sequences([line])[0]\n",
        "\tfor i in range(1, len(token_list)):\n",
        "\t\tn_gram_sequence = token_list[:i+1]\n",
        "\t\tinput_sequences.append(n_gram_sequence)\n",
        "\n",
        "\n",
        "# pad sequences \n",
        "max_sequence_len = max([len(x) for x in input_sequences])\n",
        "input_sequences = np.array(pad_sequences(input_sequences, maxlen=max_sequence_len, padding='pre'))\n",
        "\n",
        "# create predictors and label\n",
        "predictors, label = input_sequences[:,:-1],input_sequences[:,-1]\n",
        "\n",
        "label = ku.to_categorical(label, num_classes=total_words)"
      ],
      "execution_count": 3,
      "outputs": [
        {
          "output_type": "stream",
          "text": [
            "--2020-04-16 14:53:59--  https://storage.googleapis.com/laurencemoroney-blog.appspot.com/sonnets.txt\n",
            "Resolving storage.googleapis.com (storage.googleapis.com)... 172.217.203.128, 2607:f8b0:400c:c03::80\n",
            "Connecting to storage.googleapis.com (storage.googleapis.com)|172.217.203.128|:443... connected.\n",
            "HTTP request sent, awaiting response... 200 OK\n",
            "Length: 93578 (91K) [text/plain]\n",
            "Saving to: ‘/tmp/sonnets.txt’\n",
            "\n",
            "\r/tmp/sonnets.txt      0%[                    ]       0  --.-KB/s               \r/tmp/sonnets.txt    100%[===================>]  91.38K  --.-KB/s    in 0.001s  \n",
            "\n",
            "2020-04-16 14:53:59 (119 MB/s) - ‘/tmp/sonnets.txt’ saved [93578/93578]\n",
            "\n"
          ],
          "name": "stdout"
        }
      ]
    },
    {
      "cell_type": "code",
      "metadata": {
        "id": "RMwT_2k3ovjr",
        "colab_type": "code",
        "colab": {
          "base_uri": "https://localhost:8080/",
          "height": 370
        },
        "outputId": "76522f5e-3aaa-48f1-cb0c-a4bc277fe47a"
      },
      "source": [
        "model = Sequential()\n",
        "model.add(Embedding(total_words, 100, input_length=max_sequence_len-1))\n",
        "model.add(Bidirectional(LSTM(150, return_sequences = True)))\n",
        "model.add(Dropout(0.2))\n",
        "model.add(LSTM(100))\n",
        "model.add(Dense(total_words/2, activation='relu', kernel_regularizer=regularizers.l2(0.01)))\n",
        "model.add(Dense(total_words, activation='softmax'))\n",
        "model.compile(loss='categorical_crossentropy', optimizer='adam', metrics=['accuracy'])\n",
        "print(model.summary())"
      ],
      "execution_count": 4,
      "outputs": [
        {
          "output_type": "stream",
          "text": [
            "Model: \"sequential\"\n",
            "_________________________________________________________________\n",
            "Layer (type)                 Output Shape              Param #   \n",
            "=================================================================\n",
            "embedding (Embedding)        (None, 10, 100)           321100    \n",
            "_________________________________________________________________\n",
            "bidirectional (Bidirectional (None, 10, 300)           301200    \n",
            "_________________________________________________________________\n",
            "dropout (Dropout)            (None, 10, 300)           0         \n",
            "_________________________________________________________________\n",
            "lstm_1 (LSTM)                (None, 100)               160400    \n",
            "_________________________________________________________________\n",
            "dense (Dense)                (None, 1605)              162105    \n",
            "_________________________________________________________________\n",
            "dense_1 (Dense)              (None, 3211)              5156866   \n",
            "=================================================================\n",
            "Total params: 6,101,671\n",
            "Trainable params: 6,101,671\n",
            "Non-trainable params: 0\n",
            "_________________________________________________________________\n",
            "None\n"
          ],
          "name": "stdout"
        }
      ]
    },
    {
      "cell_type": "code",
      "metadata": {
        "id": "WeNSd7RDovg-",
        "colab_type": "code",
        "colab": {
          "base_uri": "https://localhost:8080/",
          "height": 1000
        },
        "outputId": "d29551ec-6c74-46b0-ccf5-9a8ad5267ade"
      },
      "source": [
        " history = model.fit(predictors, label, epochs=100, verbose=1)"
      ],
      "execution_count": 5,
      "outputs": [
        {
          "output_type": "stream",
          "text": [
            "Epoch 1/100\n",
            "484/484 [==============================] - 51s 105ms/step - loss: 6.9159 - accuracy: 0.0210\n",
            "Epoch 2/100\n",
            "484/484 [==============================] - 51s 106ms/step - loss: 6.4989 - accuracy: 0.0211\n",
            "Epoch 3/100\n",
            "484/484 [==============================] - 51s 105ms/step - loss: 6.4089 - accuracy: 0.0234\n",
            "Epoch 4/100\n",
            "484/484 [==============================] - 51s 105ms/step - loss: 6.2921 - accuracy: 0.0290\n",
            "Epoch 5/100\n",
            "484/484 [==============================] - 51s 105ms/step - loss: 6.2010 - accuracy: 0.0369\n",
            "Epoch 6/100\n",
            "484/484 [==============================] - 51s 105ms/step - loss: 6.1100 - accuracy: 0.0368\n",
            "Epoch 7/100\n",
            "484/484 [==============================] - 51s 105ms/step - loss: 6.0380 - accuracy: 0.0418\n",
            "Epoch 8/100\n",
            "484/484 [==============================] - 51s 105ms/step - loss: 5.9536 - accuracy: 0.0456\n",
            "Epoch 9/100\n",
            "484/484 [==============================] - 50s 104ms/step - loss: 5.8594 - accuracy: 0.0491\n",
            "Epoch 10/100\n",
            "484/484 [==============================] - 51s 105ms/step - loss: 5.7602 - accuracy: 0.0548\n",
            "Epoch 11/100\n",
            "484/484 [==============================] - 51s 105ms/step - loss: 5.6545 - accuracy: 0.0600\n",
            "Epoch 12/100\n",
            "484/484 [==============================] - 51s 105ms/step - loss: 5.5500 - accuracy: 0.0666\n",
            "Epoch 13/100\n",
            "484/484 [==============================] - 51s 104ms/step - loss: 5.4459 - accuracy: 0.0748\n",
            "Epoch 14/100\n",
            "484/484 [==============================] - 51s 105ms/step - loss: 5.3465 - accuracy: 0.0798\n",
            "Epoch 15/100\n",
            "484/484 [==============================] - 51s 105ms/step - loss: 5.2478 - accuracy: 0.0832\n",
            "Epoch 16/100\n",
            "484/484 [==============================] - 51s 105ms/step - loss: 5.1507 - accuracy: 0.0920\n",
            "Epoch 17/100\n",
            "484/484 [==============================] - 51s 105ms/step - loss: 5.0423 - accuracy: 0.1013\n",
            "Epoch 18/100\n",
            "484/484 [==============================] - 51s 105ms/step - loss: 4.9428 - accuracy: 0.1097\n",
            "Epoch 19/100\n",
            "484/484 [==============================] - 51s 105ms/step - loss: 4.8526 - accuracy: 0.1199\n",
            "Epoch 20/100\n",
            "484/484 [==============================] - 51s 105ms/step - loss: 4.7438 - accuracy: 0.1275\n",
            "Epoch 21/100\n",
            "484/484 [==============================] - 51s 104ms/step - loss: 4.6429 - accuracy: 0.1376\n",
            "Epoch 22/100\n",
            "484/484 [==============================] - 51s 105ms/step - loss: 4.5456 - accuracy: 0.1471\n",
            "Epoch 23/100\n",
            "484/484 [==============================] - 51s 104ms/step - loss: 4.4458 - accuracy: 0.1574\n",
            "Epoch 24/100\n",
            "484/484 [==============================] - 51s 105ms/step - loss: 4.3457 - accuracy: 0.1680\n",
            "Epoch 25/100\n",
            "484/484 [==============================] - 51s 105ms/step - loss: 4.2525 - accuracy: 0.1790\n",
            "Epoch 26/100\n",
            "484/484 [==============================] - 51s 105ms/step - loss: 4.1498 - accuracy: 0.1927\n",
            "Epoch 27/100\n",
            "484/484 [==============================] - 51s 104ms/step - loss: 4.0512 - accuracy: 0.2057\n",
            "Epoch 28/100\n",
            "484/484 [==============================] - 51s 104ms/step - loss: 3.9638 - accuracy: 0.2199\n",
            "Epoch 29/100\n",
            "484/484 [==============================] - 51s 104ms/step - loss: 3.8666 - accuracy: 0.2337\n",
            "Epoch 30/100\n",
            "484/484 [==============================] - 50s 104ms/step - loss: 3.7753 - accuracy: 0.2504\n",
            "Epoch 31/100\n",
            "484/484 [==============================] - 51s 105ms/step - loss: 3.6792 - accuracy: 0.2636\n",
            "Epoch 32/100\n",
            "484/484 [==============================] - 51s 105ms/step - loss: 3.5905 - accuracy: 0.2817\n",
            "Epoch 33/100\n",
            "484/484 [==============================] - 51s 105ms/step - loss: 3.5071 - accuracy: 0.3036\n",
            "Epoch 34/100\n",
            "484/484 [==============================] - 51s 105ms/step - loss: 3.4264 - accuracy: 0.3187\n",
            "Epoch 35/100\n",
            "484/484 [==============================] - 51s 105ms/step - loss: 3.3440 - accuracy: 0.3354\n",
            "Epoch 36/100\n",
            "484/484 [==============================] - 51s 105ms/step - loss: 3.2678 - accuracy: 0.3517\n",
            "Epoch 37/100\n",
            "484/484 [==============================] - 51s 105ms/step - loss: 3.1946 - accuracy: 0.3700\n",
            "Epoch 38/100\n",
            "484/484 [==============================] - 51s 105ms/step - loss: 3.1107 - accuracy: 0.3876\n",
            "Epoch 39/100\n",
            "484/484 [==============================] - 51s 105ms/step - loss: 3.0411 - accuracy: 0.4042\n",
            "Epoch 40/100\n",
            "484/484 [==============================] - 51s 105ms/step - loss: 2.9749 - accuracy: 0.4225\n",
            "Epoch 41/100\n",
            "484/484 [==============================] - 50s 104ms/step - loss: 2.8991 - accuracy: 0.4384\n",
            "Epoch 42/100\n",
            "484/484 [==============================] - 50s 104ms/step - loss: 2.8436 - accuracy: 0.4498\n",
            "Epoch 43/100\n",
            "484/484 [==============================] - 51s 105ms/step - loss: 2.7778 - accuracy: 0.4644\n",
            "Epoch 44/100\n",
            "484/484 [==============================] - 51s 105ms/step - loss: 2.7147 - accuracy: 0.4841\n",
            "Epoch 45/100\n",
            "484/484 [==============================] - 51s 105ms/step - loss: 2.6584 - accuracy: 0.4924\n",
            "Epoch 46/100\n",
            "484/484 [==============================] - 51s 105ms/step - loss: 2.6113 - accuracy: 0.5019\n",
            "Epoch 47/100\n",
            "484/484 [==============================] - 50s 104ms/step - loss: 2.5436 - accuracy: 0.5164\n",
            "Epoch 48/100\n",
            "484/484 [==============================] - 55s 114ms/step - loss: 2.5156 - accuracy: 0.5249\n",
            "Epoch 49/100\n",
            "484/484 [==============================] - 51s 105ms/step - loss: 2.4575 - accuracy: 0.5321\n",
            "Epoch 50/100\n",
            "484/484 [==============================] - 51s 105ms/step - loss: 2.3973 - accuracy: 0.5541\n",
            "Epoch 51/100\n",
            "484/484 [==============================] - 51s 105ms/step - loss: 2.3466 - accuracy: 0.5656\n",
            "Epoch 52/100\n",
            "484/484 [==============================] - 51s 105ms/step - loss: 2.3057 - accuracy: 0.5704\n",
            "Epoch 53/100\n",
            "484/484 [==============================] - 51s 105ms/step - loss: 2.2679 - accuracy: 0.5805\n",
            "Epoch 54/100\n",
            "484/484 [==============================] - 51s 104ms/step - loss: 2.2171 - accuracy: 0.5930\n",
            "Epoch 55/100\n",
            "484/484 [==============================] - 51s 105ms/step - loss: 2.1709 - accuracy: 0.6017\n",
            "Epoch 56/100\n",
            "484/484 [==============================] - 51s 105ms/step - loss: 2.1507 - accuracy: 0.6010\n",
            "Epoch 57/100\n",
            "484/484 [==============================] - 51s 104ms/step - loss: 2.1073 - accuracy: 0.6158\n",
            "Epoch 58/100\n",
            "484/484 [==============================] - 51s 104ms/step - loss: 2.0695 - accuracy: 0.6211\n",
            "Epoch 59/100\n",
            "484/484 [==============================] - 50s 104ms/step - loss: 2.0227 - accuracy: 0.6288\n",
            "Epoch 60/100\n",
            "484/484 [==============================] - 56s 115ms/step - loss: 1.9927 - accuracy: 0.6398\n",
            "Epoch 61/100\n",
            "484/484 [==============================] - 51s 104ms/step - loss: 1.9464 - accuracy: 0.6488\n",
            "Epoch 62/100\n",
            "484/484 [==============================] - 50s 104ms/step - loss: 1.9121 - accuracy: 0.6563\n",
            "Epoch 63/100\n",
            "484/484 [==============================] - 50s 104ms/step - loss: 1.8823 - accuracy: 0.6662\n",
            "Epoch 64/100\n",
            "484/484 [==============================] - 51s 104ms/step - loss: 1.8625 - accuracy: 0.6709\n",
            "Epoch 65/100\n",
            "484/484 [==============================] - 51s 104ms/step - loss: 1.8315 - accuracy: 0.6733\n",
            "Epoch 66/100\n",
            "484/484 [==============================] - 50s 104ms/step - loss: 1.8056 - accuracy: 0.6817\n",
            "Epoch 67/100\n",
            "484/484 [==============================] - 50s 104ms/step - loss: 1.7616 - accuracy: 0.6884\n",
            "Epoch 68/100\n",
            "484/484 [==============================] - 50s 104ms/step - loss: 1.7338 - accuracy: 0.6918\n",
            "Epoch 69/100\n",
            "484/484 [==============================] - 50s 103ms/step - loss: 1.7097 - accuracy: 0.7026\n",
            "Epoch 70/100\n",
            "484/484 [==============================] - 50s 104ms/step - loss: 1.6899 - accuracy: 0.7066\n",
            "Epoch 71/100\n",
            "484/484 [==============================] - 50s 104ms/step - loss: 1.6734 - accuracy: 0.7063\n",
            "Epoch 72/100\n",
            "484/484 [==============================] - 51s 104ms/step - loss: 1.6409 - accuracy: 0.7142\n",
            "Epoch 73/100\n",
            "484/484 [==============================] - 51s 104ms/step - loss: 1.6089 - accuracy: 0.7195\n",
            "Epoch 74/100\n",
            "484/484 [==============================] - 51s 105ms/step - loss: 1.5884 - accuracy: 0.7211\n",
            "Epoch 75/100\n",
            "484/484 [==============================] - 50s 104ms/step - loss: 1.5755 - accuracy: 0.7253\n",
            "Epoch 76/100\n",
            "484/484 [==============================] - 51s 104ms/step - loss: 1.5465 - accuracy: 0.7299\n",
            "Epoch 77/100\n",
            "484/484 [==============================] - 50s 104ms/step - loss: 1.5245 - accuracy: 0.7359\n",
            "Epoch 78/100\n",
            "484/484 [==============================] - 55s 114ms/step - loss: 1.5006 - accuracy: 0.7398\n",
            "Epoch 79/100\n",
            "484/484 [==============================] - 51s 105ms/step - loss: 1.5019 - accuracy: 0.7354\n",
            "Epoch 80/100\n",
            "484/484 [==============================] - 51s 105ms/step - loss: 1.4841 - accuracy: 0.7410\n",
            "Epoch 81/100\n",
            "484/484 [==============================] - 50s 104ms/step - loss: 1.4564 - accuracy: 0.7463\n",
            "Epoch 82/100\n",
            "484/484 [==============================] - 50s 103ms/step - loss: 1.4383 - accuracy: 0.7472\n",
            "Epoch 83/100\n",
            "484/484 [==============================] - 50s 103ms/step - loss: 1.4263 - accuracy: 0.7538\n",
            "Epoch 84/100\n",
            "484/484 [==============================] - 50s 104ms/step - loss: 1.3953 - accuracy: 0.7612\n",
            "Epoch 85/100\n",
            "484/484 [==============================] - 50s 104ms/step - loss: 1.3982 - accuracy: 0.7527\n",
            "Epoch 86/100\n",
            "484/484 [==============================] - 51s 105ms/step - loss: 1.3651 - accuracy: 0.7650\n",
            "Epoch 87/100\n",
            "484/484 [==============================] - 51s 105ms/step - loss: 1.3529 - accuracy: 0.7684\n",
            "Epoch 88/100\n",
            "484/484 [==============================] - 50s 104ms/step - loss: 1.3339 - accuracy: 0.7699\n",
            "Epoch 89/100\n",
            "484/484 [==============================] - 50s 104ms/step - loss: 1.3273 - accuracy: 0.7687\n",
            "Epoch 90/100\n",
            "484/484 [==============================] - 56s 115ms/step - loss: 1.3192 - accuracy: 0.7724\n",
            "Epoch 91/100\n",
            "484/484 [==============================] - 50s 104ms/step - loss: 1.2985 - accuracy: 0.7746\n",
            "Epoch 92/100\n",
            "484/484 [==============================] - 51s 105ms/step - loss: 1.2864 - accuracy: 0.7748\n",
            "Epoch 93/100\n",
            "484/484 [==============================] - 50s 104ms/step - loss: 1.2724 - accuracy: 0.7778\n",
            "Epoch 94/100\n",
            "484/484 [==============================] - 50s 104ms/step - loss: 1.2666 - accuracy: 0.7795\n",
            "Epoch 95/100\n",
            "484/484 [==============================] - 50s 104ms/step - loss: 1.2562 - accuracy: 0.7807\n",
            "Epoch 96/100\n",
            "484/484 [==============================] - 50s 104ms/step - loss: 1.2399 - accuracy: 0.7863\n",
            "Epoch 97/100\n",
            "484/484 [==============================] - 50s 104ms/step - loss: 1.2256 - accuracy: 0.7870\n",
            "Epoch 98/100\n",
            "484/484 [==============================] - 50s 104ms/step - loss: 1.2088 - accuracy: 0.7920\n",
            "Epoch 99/100\n",
            "484/484 [==============================] - 50s 104ms/step - loss: 1.2037 - accuracy: 0.7883\n",
            "Epoch 100/100\n",
            "484/484 [==============================] - 50s 103ms/step - loss: 1.1971 - accuracy: 0.7910\n"
          ],
          "name": "stdout"
        }
      ]
    },
    {
      "cell_type": "code",
      "metadata": {
        "id": "PNJYII_WoscK",
        "colab_type": "code",
        "colab": {
          "base_uri": "https://localhost:8080/",
          "height": 545
        },
        "outputId": "777d639d-30ea-4701-fe88-c69f515d54b0"
      },
      "source": [
        "import matplotlib.pyplot as plt\n",
        "acc = history.history['accuracy']\n",
        "loss = history.history['loss']\n",
        "\n",
        "epochs = range(len(acc))\n",
        "\n",
        "plt.plot(epochs, acc, 'b', label='Training accuracy')\n",
        "plt.title('Training accuracy')\n",
        "\n",
        "plt.figure()\n",
        "\n",
        "plt.plot(epochs, loss, 'b', label='Training Loss')\n",
        "plt.title('Training loss')\n",
        "plt.legend()\n",
        "\n",
        "plt.show()"
      ],
      "execution_count": 6,
      "outputs": [
        {
          "output_type": "display_data",
          "data": {
            "image/png": "[encoded data removed]",
            "text/plain": [
              "<Figure size 432x288 with 1 Axes>"
            ]
          },
          "metadata": {
            "tags": [],
            "needs_background": "light"
          }
        },
        {
          "output_type": "display_data",
          "data": {
            "image/png": "[encoded data removed]",
            "text/plain": [
              "<Figure size 432x288 with 1 Axes>"
            ]
          },
          "metadata": {
            "tags": [],
            "needs_background": "light"
          }
        }
      ]
    },
    {
      "cell_type": "code",
      "metadata": {
        "id": "hE5Y9Nc5o4uS",
        "colab_type": "code",
        "colab": {
          "base_uri": "https://localhost:8080/",
          "height": 54
        },
        "outputId": "b8ee5e3c-c70e-492b-deff-9feda7b6e5ba"
      },
      "source": [
        "seed_text = \"Help me Obi Wan Kenobi, you're my only hope\"\n",
        "next_words = 100\n",
        "  \n",
        "for _ in range(next_words):\n",
        "\ttoken_list = tokenizer.texts_to_sequences([seed_text])[0]\n",
        "\ttoken_list = pad_sequences([token_list], maxlen=max_sequence_len-1, padding='pre')\n",
        "\tpredicted = model.predict_classes(token_list, verbose=0)\n",
        "\toutput_word = \"\"\n",
        "\tfor word, index in tokenizer.word_index.items():\n",
        "\t\tif index == predicted:\n",
        "\t\t\toutput_word = word\n",
        "\t\t\tbreak\n",
        "\tseed_text += \" \" + output_word\n",
        "print(seed_text)"
      ],
      "execution_count": 8,
      "outputs": [
        {
          "output_type": "stream",
          "text": [
            "Help me Obi Wan Kenobi, you're my only hope and show your sight ' go part was life so well doth shown erred grow parts sweet memory lie in heaven find life so was call so be so lips to decay go spite of score spent gone doth new deem'd grow dead spent place well form bearing days dote allow arising staineth grow pain prove cure change all thy head of show thee thee so good part live show thee thee what that am blessed green my form away well face well loss 'tis loss 'tis loss 'tis done wilt live loves thou art alone respect forth such strife\n"
          ],
          "name": "stdout"
        }
      ]
    }
  ]
}